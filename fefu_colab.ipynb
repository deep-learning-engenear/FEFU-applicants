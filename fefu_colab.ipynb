{
  "cells": [
    {
      "cell_type": "markdown",
      "metadata": {
        "id": "vTYipjPT2us9"
      },
      "source": [
        "#Импорт библиотек"
      ]
    },
    {
      "cell_type": "code",
      "execution_count": 69,
      "metadata": {
        "id": "9THBqcwPqnvh"
      },
      "outputs": [],
      "source": [
        "import requests\n",
        "import pandas as pd\n",
        "import numpy as np\n",
        "import copy"
      ]
    },
    {
      "cell_type": "markdown",
      "metadata": {
        "id": "-0-aekCQ20f3"
      },
      "source": [
        "#Сбор данных"
      ]
    },
    {
      "cell_type": "markdown",
      "source": [
        "Напишем функцию для получения списка специальностей c источником финансирования - finance ('Бюджетная основа', 'Полное возмещение затрат')."
      ],
      "metadata": {
        "id": "I1oyFQ2ke7Vf"
      }
    },
    {
      "cell_type": "code",
      "execution_count": 141,
      "metadata": {
        "id": "lMvce8KlOZ9G"
      },
      "outputs": [],
      "source": [
        "def get_speciality(url, finance):\n",
        "    user_agent = {'user-agent': 'Mozilla/5.0 (X11; Linux aarch64) AppleWebKit/537.36 (KHTML, like Gecko) Chrome/88.0.4324.188 Safari/537.36 CrKey/1.54.250320'}\n",
        "    data = {\n",
        "        'admissionCampaignType' : \"Прием на обучение на бакалавриат/специалитет\",\n",
        "        'financingSource' : finance,\n",
        "        'studyForm' : \"Очная\"\n",
        "    }\n",
        "\n",
        "    raw = requests.post(url=url, headers = user_agent, params = data).json()\n",
        "    return raw['data']"
      ]
    },
    {
      "cell_type": "markdown",
      "metadata": {
        "id": "zWmnHCYoVkWA"
      },
      "source": [
        "Напишем функцию, которая будет собирать данные о поступающих на определенное направление - department."
      ]
    },
    {
      "cell_type": "code",
      "execution_count": 142,
      "metadata": {
        "id": "-YOh4LrbqmXu"
      },
      "outputs": [],
      "source": [
        "def get_data(url, department, finance, orig):\n",
        "    # Словарь ключей для получения кол-во мест\n",
        "    place = {'Имеющие особое право':    'SpecialQuotaCount',\n",
        "             'На общих основаниях':     'BudgetQuotaCount',\n",
        "             'Отдельная квота':         'SeparateQuotaCount',\n",
        "             'Целевой прием':           'TargetQuotaCount',\n",
        "             'Полное возмещение затрат':'ExtraBudgetQuotaCount'}\n",
        "\n",
        "    user_agent = {'user-agent': 'Mozilla/5.0 (X11; Linux aarch64) AppleWebKit/537.36 (KHTML, like Gecko) Chrome/88.0.4324.188 Safari/537.36 CrKey/1.54.250320'}\n",
        "    data = {\n",
        "        'admissionCampaignType' : \"Прием на обучение на бакалавриат/специалитет\",\n",
        "        'financingSource' : finance,\n",
        "        'studyForm' : \"Очная\",\n",
        "        'trainingDirection' : department,\n",
        "        'sortDirection' : \"sum\",\n",
        "    }\n",
        "\n",
        "    raw = requests.post(url=url, headers = user_agent, params = data).json()\n",
        "\n",
        "    for student in raw.get(\"data\"):\n",
        "        if student['Code'] == '':\n",
        "            continue\n",
        "\n",
        "        if orig == 'Y' and student['AtestOrig'] == 'N':\n",
        "          continue\n",
        "\n",
        "        category = student['Category']\n",
        "\n",
        "        data_students['СНИЛС'].append(student['Code'])\n",
        "        data_students['Специальность'].append(department)\n",
        "        data_students['Приоритет'].append(int(student[\"SelectedPriority\"]))\n",
        "        data_students['БВИ'].append(student[\"NoExams\"] == 'Y')\n",
        "        data_students['Категория'].append(category)\n",
        "\n",
        "        try:\n",
        "            data_students['Балл'].append(int(student['SumScore']))\n",
        "        except:\n",
        "            data_students['Балл'].append(np.nan)\n",
        "\n",
        "        if category not in count_place:\n",
        "            count_place[category] = {}\n",
        "\n",
        "        if department not in count_place[category]:\n",
        "            count_place[category][department] = int(student[place[category]])\n",
        ""
      ]
    },
    {
      "cell_type": "code",
      "execution_count": 143,
      "metadata": {
        "id": "AdzXBYdDqpfX",
        "colab": {
          "base_uri": "https://localhost:8080/"
        },
        "outputId": "297bb821-0e06-4cf1-99ca-9899806dce53"
      },
      "outputs": [
        {
          "name": "stdout",
          "output_type": "stream",
          "text": [
            "Бюджетная основа\n",
            "N\n"
          ]
        }
      ],
      "source": [
        "# Словарь для хранения информации о кол-во мест\n",
        "count_place = {}\n",
        "# Будущий DataFrame для хранения информации об абитуриентах\n",
        "data_students = {'СНИЛС': [], 'Специальность': [], 'Балл': [], 'Приоритет': [], 'БВИ': [], 'Категория': []}\n",
        "\n",
        "# Выберите одну из категорий источника финансирования: 'Бюджетная основа', 'Полное возмещение затрат'\n",
        "finance = input()\n",
        "# Выберите категорию аттестата: 'N' - не учитывая наличие оригинала, 'Y' - только оригинал документа\n",
        "orig = input()"
      ]
    },
    {
      "cell_type": "code",
      "execution_count": 144,
      "metadata": {
        "id": "_pDR5XoIO7Ru"
      },
      "outputs": [],
      "source": [
        "url_speciality = \"https://www.dvfu.ru/bitrix/services/main/ajax.php?mode=class&c=dvfu%3Aadmission.spd.new&action=getTrainingDirectionList\"\n",
        "fefu_speciality = get_speciality(url_speciality, finance)"
      ]
    },
    {
      "cell_type": "code",
      "source": [
        "fefu_speciality[:3]"
      ],
      "metadata": {
        "colab": {
          "base_uri": "https://localhost:8080/"
        },
        "id": "PQrxQe41fEmG",
        "outputId": "4fbb6c49-2f1c-4a90-f5ae-d5d9adc6b0dc"
      },
      "execution_count": 145,
      "outputs": [
        {
          "output_type": "execute_result",
          "data": {
            "text/plain": [
              "['01.03.02 Прикладная математика и информатика',\n",
              " '01.03.04 Прикладная математика (Математические и цифровые методы в экономике и аналитике)',\n",
              " '02.03.01 Математика и компьютерные науки (Сквозные цифровые технологии)']"
            ]
          },
          "metadata": {},
          "execution_count": 145
        }
      ]
    },
    {
      "cell_type": "markdown",
      "metadata": {
        "id": "EPsFtZZs3Pkm"
      },
      "source": [
        "Формирование pandasDataFrame по всем специальностям."
      ]
    },
    {
      "cell_type": "code",
      "execution_count": 146,
      "metadata": {
        "id": "hxqYUH9kqitH"
      },
      "outputs": [],
      "source": [
        "url_data ='https://www.dvfu.ru/bitrix/services/main/ajax.php?mode=class&c=dvfu%3Aadmission.spd.new&action=getStudents'\n",
        "\n",
        "for speciality in fefu_speciality:\n",
        "    get_data(url_data, speciality, finance, orig)"
      ]
    },
    {
      "cell_type": "code",
      "execution_count": 147,
      "metadata": {
        "colab": {
          "base_uri": "https://localhost:8080/"
        },
        "id": "-wQPd0rW1Ddk",
        "outputId": "fb325ec9-1235-41cd-c885-2187f64df263"
      },
      "outputs": [
        {
          "output_type": "execute_result",
          "data": {
            "text/plain": [
              "(42030, 6)"
            ]
          },
          "metadata": {},
          "execution_count": 147
        }
      ],
      "source": [
        "data_students = pd.DataFrame(data_students)\n",
        "data_students.shape"
      ]
    },
    {
      "cell_type": "markdown",
      "metadata": {
        "id": "WpYseWHaasPc"
      },
      "source": [
        "Удалим дубликаты."
      ]
    },
    {
      "cell_type": "code",
      "execution_count": 148,
      "metadata": {
        "colab": {
          "base_uri": "https://localhost:8080/"
        },
        "id": "9A6R50DIatl8",
        "outputId": "1df3c17e-f307-4616-f185-e2331ba699dc"
      },
      "outputs": [
        {
          "output_type": "execute_result",
          "data": {
            "text/plain": [
              "(42021, 6)"
            ]
          },
          "metadata": {},
          "execution_count": 148
        }
      ],
      "source": [
        "data_students = data_students.drop_duplicates()\n",
        "data_students.shape"
      ]
    },
    {
      "cell_type": "markdown",
      "metadata": {
        "id": "GPB3NWVF8Rum"
      },
      "source": [
        "#Алгоритм"
      ]
    },
    {
      "cell_type": "markdown",
      "source": [
        "Так как count_place - это словарь словарей, для того чтобы он не изменялся по ходу выполнения программы, сделаем глубокое копирование."
      ],
      "metadata": {
        "id": "Hj0y_RVLy6v_"
      }
    },
    {
      "cell_type": "code",
      "execution_count": 149,
      "metadata": {
        "id": "JO44s-12RJwm"
      },
      "outputs": [],
      "source": [
        "copy_place = copy.deepcopy(count_place)\n",
        "df_students = data_students.copy()"
      ]
    },
    {
      "cell_type": "markdown",
      "metadata": {
        "id": "XZCmkYSl8kt_"
      },
      "source": [
        "Создадим пустой DataFrame, который будет хранить информацию о поступивших абитуриентах."
      ]
    },
    {
      "cell_type": "code",
      "execution_count": 150,
      "metadata": {
        "id": "ZSI6nKyp8Ynh"
      },
      "outputs": [],
      "source": [
        "students_received = pd.DataFrame({'СНИЛС': [], 'Специальность': [], 'Балл': [], 'Приоритет': [], 'БВИ': [], 'Категория': []})"
      ]
    },
    {
      "cell_type": "markdown",
      "metadata": {
        "id": "sgCQheoVOLtW"
      },
      "source": [
        "Напишем функцию, которая будет считать кол-во оставшихся мест на все специальности в определенной категории мест."
      ]
    },
    {
      "cell_type": "code",
      "execution_count": 151,
      "metadata": {
        "id": "AO4QpfeAMw9R"
      },
      "outputs": [],
      "source": [
        "def get_count_place(place, category):\n",
        "    return sum([place[category][i] for i in place[category]])"
      ]
    },
    {
      "cell_type": "markdown",
      "metadata": {
        "id": "jNQSDaPLRKng"
      },
      "source": [
        "Посмотрим на общее кол-во мест в категории: На общих основаниях."
      ]
    },
    {
      "cell_type": "code",
      "execution_count": 152,
      "metadata": {
        "colab": {
          "base_uri": "https://localhost:8080/"
        },
        "id": "e_pqvGS-NRnS",
        "outputId": "11fbe19b-9d7f-449c-d44a-9da2abe32450"
      },
      "outputs": [
        {
          "output_type": "execute_result",
          "data": {
            "text/plain": [
              "1799"
            ]
          },
          "metadata": {},
          "execution_count": 152
        }
      ],
      "source": [
        "get_count_place(copy_place, 'На общих основаниях')"
      ]
    },
    {
      "cell_type": "markdown",
      "source": [
        "Напишем функцию, которая будет формировать DataFrame с поступившими абитуриентами по определенной категории (category)."
      ],
      "metadata": {
        "id": "INIKvP3_xcHk"
      }
    },
    {
      "cell_type": "code",
      "execution_count": 153,
      "metadata": {
        "id": "TmBeE6_U8Yk_"
      },
      "outputs": [],
      "source": [
        "def incoming_students(category):\n",
        "    global students_received, df_students\n",
        "\n",
        "    not_students = 0\n",
        "    while not_students != len(copy_place[category]): # Выполняем цикл до тех пор, пока в\n",
        "        not_students = 0                              # не останется абитуриентов на все специальности\n",
        "\n",
        "        for speciality in copy_place[category]:\n",
        "            # Проверим остались ли места на данную специальность\n",
        "            if copy_place[category][speciality] == 0:\n",
        "                not_students += 1\n",
        "                continue\n",
        "\n",
        "            # Формируем DataFrame по специальности и сортируем в порядке убывания\n",
        "            speciality_data = df_students[(df_students['Специальность'] == speciality) & (df_students['Категория'] == category)]\\\n",
        "                              .sort_values(by=['БВИ', 'Балл'], ascending=( False , False ))\n",
        "\n",
        "            # Делаем выборку из первых абитуриентов\n",
        "            speciality_data = speciality_data.iloc[:copy_place[category][speciality]]\n",
        "            # Проверяем не пустой ли speciality_data\n",
        "            if len(speciality_data) == 0:\n",
        "                not_students += 1\n",
        "                continue\n",
        "\n",
        "            # Перебираем проходящих на данную специальность абитуриентов\n",
        "            for i, student in speciality_data.iterrows():\n",
        "                # Проверяем есть ли уже абитуриент в DataFrame, поступивших абитуриентов\n",
        "                if student['СНИЛС'] in students_received['СНИЛС'].to_list():\n",
        "                    # Проверяем меньше ли новый приоритет\n",
        "                    if student['Приоритет'] < students_received[students_received['СНИЛС'] == student['СНИЛС']]['Приоритет'].values[0]:\n",
        "\n",
        "                        # Так как значение нового приоритета меньше, убираем абитуриента со старой специальности и добавляем в новую\n",
        "                        index = students_received[students_received['СНИЛС'] == student['СНИЛС']].index\n",
        "                        copy_place[students_received.loc[index, 'Категория'].values[0]][students_received.loc[index, 'Специальность'].values[0]] += 1\n",
        "\n",
        "                        # Удаление информацию об абитуриенте\n",
        "                        students_received.drop(labels=[index[0]], inplace=True)\n",
        "\n",
        "                    # Если значение исходного приоритета меньше нового, пропускаем абитуриента\n",
        "                    else:\n",
        "                      df_students.drop(labels=[i], inplace=True)\n",
        "                      continue\n",
        "\n",
        "                # Добаляем информацию о новом, поступившем абитуриенте\n",
        "                item = pd.DataFrame([student])\n",
        "                item[\"БВИ\"] = item[\"БВИ\"].astype(\"boolean\")\n",
        "                students_received = pd.concat([students_received, item])\n",
        "\n",
        "                # Обновляем кол-во мест\n",
        "                copy_place[student['Категория']][student['Специальность']] -= 1\n",
        "\n",
        "                # Удаляем из общих данных уже поступивших абитуриентов\n",
        "                df_students.drop(labels=[i], inplace=True)\n"
      ]
    },
    {
      "cell_type": "markdown",
      "source": [
        "Для бюджетной основы сначала определяем поступивших абитуриентов на общих основаниях, затем на квотные места, оставшиеся места переходят в места 'На общих основаниях', дополняем списки 'На общих основаниях'.\\\n",
        "Для платной основы всё легче, так как присутствуют только места 'На общих основаниях'."
      ],
      "metadata": {
        "id": "zyZtXrpRqS8h"
      }
    },
    {
      "cell_type": "code",
      "execution_count": 154,
      "metadata": {
        "id": "pbA5h4dQKER7"
      },
      "outputs": [],
      "source": [
        "def get_students_received():\n",
        "\n",
        "    # Определяем поступивших абитуриентов на общих основаниях\n",
        "    incoming_students('На общих основаниях')\n",
        "\n",
        "    if finance == 'Бюджетная основа':\n",
        "        kvota = ['Имеющие особое право', 'Отдельная квота', 'Целевой прием']\n",
        "\n",
        "        for category in kvota:\n",
        "            incoming_students(category)\n",
        "\n",
        "        # Добавляем оставшиеся места в общие основания\n",
        "        for category in kvota:\n",
        "          for speciality in copy_place[category]:\n",
        "              copy_place['На общих основаниях'][speciality] += copy_place[category][speciality]\n",
        "              copy_place[category][speciality] = 0\n",
        "\n",
        "        # Дополняем поступивших абитуриентов на общих основаниях\n",
        "        incoming_students('На общих основаниях')\n"
      ]
    },
    {
      "cell_type": "code",
      "source": [
        "get_students_received()"
      ],
      "metadata": {
        "id": "1zZC2uyF8-oo"
      },
      "execution_count": 155,
      "outputs": []
    },
    {
      "cell_type": "markdown",
      "metadata": {
        "id": "JW9TBjwtxuEU"
      },
      "source": [
        "Проверим размерности данных и кол-во уникальных СНИЛСов (для того чтобы убедится, что один абитуриент не попал в наш DataFrame несколько раз).\n"
      ]
    },
    {
      "cell_type": "code",
      "execution_count": 156,
      "metadata": {
        "colab": {
          "base_uri": "https://localhost:8080/"
        },
        "id": "zIsihSlf8Yis",
        "outputId": "9af530db-dc04-4ec6-9295-6f0f52dff84d"
      },
      "outputs": [
        {
          "output_type": "execute_result",
          "data": {
            "text/plain": [
              "((35431, 6), (2873, 6))"
            ]
          },
          "metadata": {},
          "execution_count": 156
        }
      ],
      "source": [
        "df_students.shape, students_received.shape"
      ]
    },
    {
      "cell_type": "code",
      "execution_count": 157,
      "metadata": {
        "colab": {
          "base_uri": "https://localhost:8080/"
        },
        "id": "aLIQflrONbFr",
        "outputId": "a6822d35-9d64-486f-f5f0-43628b80a8e5"
      },
      "outputs": [
        {
          "output_type": "execute_result",
          "data": {
            "text/plain": [
              "2873"
            ]
          },
          "metadata": {},
          "execution_count": 157
        }
      ],
      "source": [
        "students_received['СНИЛС'].nunique()"
      ]
    },
    {
      "cell_type": "markdown",
      "metadata": {
        "id": "2-9ra2RngTwh"
      },
      "source": [
        "Тут можно проверить на какую специальность проходит абитуриент."
      ]
    },
    {
      "cell_type": "code",
      "execution_count": 90,
      "metadata": {
        "colab": {
          "base_uri": "https://localhost:8080/",
          "height": 67
        },
        "id": "ZVkpOjpUdW8L",
        "outputId": "71cbadcf-a0c1-44f3-d31f-0329f6d0b3a5"
      },
      "outputs": [
        {
          "name": "stdout",
          "output_type": "stream",
          "text": [
            "Введите снилс в формате xxx-xxx-xxx xx или уникальный код: 1\n"
          ]
        },
        {
          "output_type": "execute_result",
          "data": {
            "text/plain": [
              "Empty DataFrame\n",
              "Columns: [СНИЛС, Специальность, Балл, Приоритет, БВИ, Категория]\n",
              "Index: []"
            ],
            "text/html": [
              "\n",
              "\n",
              "  <div id=\"df-195b0468-0e55-40d0-9189-12b0ac3c0949\">\n",
              "    <div class=\"colab-df-container\">\n",
              "      <div>\n",
              "<style scoped>\n",
              "    .dataframe tbody tr th:only-of-type {\n",
              "        vertical-align: middle;\n",
              "    }\n",
              "\n",
              "    .dataframe tbody tr th {\n",
              "        vertical-align: top;\n",
              "    }\n",
              "\n",
              "    .dataframe thead th {\n",
              "        text-align: right;\n",
              "    }\n",
              "</style>\n",
              "<table border=\"1\" class=\"dataframe\">\n",
              "  <thead>\n",
              "    <tr style=\"text-align: right;\">\n",
              "      <th></th>\n",
              "      <th>СНИЛС</th>\n",
              "      <th>Специальность</th>\n",
              "      <th>Балл</th>\n",
              "      <th>Приоритет</th>\n",
              "      <th>БВИ</th>\n",
              "      <th>Категория</th>\n",
              "    </tr>\n",
              "  </thead>\n",
              "  <tbody>\n",
              "  </tbody>\n",
              "</table>\n",
              "</div>\n",
              "      <button class=\"colab-df-convert\" onclick=\"convertToInteractive('df-195b0468-0e55-40d0-9189-12b0ac3c0949')\"\n",
              "              title=\"Convert this dataframe to an interactive table.\"\n",
              "              style=\"display:none;\">\n",
              "\n",
              "  <svg xmlns=\"http://www.w3.org/2000/svg\" height=\"24px\"viewBox=\"0 0 24 24\"\n",
              "       width=\"24px\">\n",
              "    <path d=\"M0 0h24v24H0V0z\" fill=\"none\"/>\n",
              "    <path d=\"M18.56 5.44l.94 2.06.94-2.06 2.06-.94-2.06-.94-.94-2.06-.94 2.06-2.06.94zm-11 1L8.5 8.5l.94-2.06 2.06-.94-2.06-.94L8.5 2.5l-.94 2.06-2.06.94zm10 10l.94 2.06.94-2.06 2.06-.94-2.06-.94-.94-2.06-.94 2.06-2.06.94z\"/><path d=\"M17.41 7.96l-1.37-1.37c-.4-.4-.92-.59-1.43-.59-.52 0-1.04.2-1.43.59L10.3 9.45l-7.72 7.72c-.78.78-.78 2.05 0 2.83L4 21.41c.39.39.9.59 1.41.59.51 0 1.02-.2 1.41-.59l7.78-7.78 2.81-2.81c.8-.78.8-2.07 0-2.86zM5.41 20L4 18.59l7.72-7.72 1.47 1.35L5.41 20z\"/>\n",
              "  </svg>\n",
              "      </button>\n",
              "\n",
              "\n",
              "\n",
              "    <div id=\"df-ef38665a-cc89-4054-b87e-86062b61312a\">\n",
              "      <button class=\"colab-df-quickchart\" onclick=\"quickchart('df-ef38665a-cc89-4054-b87e-86062b61312a')\"\n",
              "              title=\"Suggest charts.\"\n",
              "              style=\"display:none;\">\n",
              "\n",
              "<svg xmlns=\"http://www.w3.org/2000/svg\" height=\"24px\"viewBox=\"0 0 24 24\"\n",
              "     width=\"24px\">\n",
              "    <g>\n",
              "        <path d=\"M19 3H5c-1.1 0-2 .9-2 2v14c0 1.1.9 2 2 2h14c1.1 0 2-.9 2-2V5c0-1.1-.9-2-2-2zM9 17H7v-7h2v7zm4 0h-2V7h2v10zm4 0h-2v-4h2v4z\"/>\n",
              "    </g>\n",
              "</svg>\n",
              "      </button>\n",
              "    </div>\n",
              "\n",
              "<style>\n",
              "  .colab-df-quickchart {\n",
              "    background-color: #E8F0FE;\n",
              "    border: none;\n",
              "    border-radius: 50%;\n",
              "    cursor: pointer;\n",
              "    display: none;\n",
              "    fill: #1967D2;\n",
              "    height: 32px;\n",
              "    padding: 0 0 0 0;\n",
              "    width: 32px;\n",
              "  }\n",
              "\n",
              "  .colab-df-quickchart:hover {\n",
              "    background-color: #E2EBFA;\n",
              "    box-shadow: 0px 1px 2px rgba(60, 64, 67, 0.3), 0px 1px 3px 1px rgba(60, 64, 67, 0.15);\n",
              "    fill: #174EA6;\n",
              "  }\n",
              "\n",
              "  [theme=dark] .colab-df-quickchart {\n",
              "    background-color: #3B4455;\n",
              "    fill: #D2E3FC;\n",
              "  }\n",
              "\n",
              "  [theme=dark] .colab-df-quickchart:hover {\n",
              "    background-color: #434B5C;\n",
              "    box-shadow: 0px 1px 3px 1px rgba(0, 0, 0, 0.15);\n",
              "    filter: drop-shadow(0px 1px 2px rgba(0, 0, 0, 0.3));\n",
              "    fill: #FFFFFF;\n",
              "  }\n",
              "</style>\n",
              "\n",
              "    <script>\n",
              "      async function quickchart(key) {\n",
              "        const containerElement = document.querySelector('#' + key);\n",
              "        const charts = await google.colab.kernel.invokeFunction(\n",
              "            'suggestCharts', [key], {});\n",
              "      }\n",
              "    </script>\n",
              "\n",
              "      <script>\n",
              "\n",
              "function displayQuickchartButton(domScope) {\n",
              "  let quickchartButtonEl =\n",
              "    domScope.querySelector('#df-ef38665a-cc89-4054-b87e-86062b61312a button.colab-df-quickchart');\n",
              "  quickchartButtonEl.style.display =\n",
              "    google.colab.kernel.accessAllowed ? 'block' : 'none';\n",
              "}\n",
              "\n",
              "        displayQuickchartButton(document);\n",
              "      </script>\n",
              "      <style>\n",
              "    .colab-df-container {\n",
              "      display:flex;\n",
              "      flex-wrap:wrap;\n",
              "      gap: 12px;\n",
              "    }\n",
              "\n",
              "    .colab-df-convert {\n",
              "      background-color: #E8F0FE;\n",
              "      border: none;\n",
              "      border-radius: 50%;\n",
              "      cursor: pointer;\n",
              "      display: none;\n",
              "      fill: #1967D2;\n",
              "      height: 32px;\n",
              "      padding: 0 0 0 0;\n",
              "      width: 32px;\n",
              "    }\n",
              "\n",
              "    .colab-df-convert:hover {\n",
              "      background-color: #E2EBFA;\n",
              "      box-shadow: 0px 1px 2px rgba(60, 64, 67, 0.3), 0px 1px 3px 1px rgba(60, 64, 67, 0.15);\n",
              "      fill: #174EA6;\n",
              "    }\n",
              "\n",
              "    [theme=dark] .colab-df-convert {\n",
              "      background-color: #3B4455;\n",
              "      fill: #D2E3FC;\n",
              "    }\n",
              "\n",
              "    [theme=dark] .colab-df-convert:hover {\n",
              "      background-color: #434B5C;\n",
              "      box-shadow: 0px 1px 3px 1px rgba(0, 0, 0, 0.15);\n",
              "      filter: drop-shadow(0px 1px 2px rgba(0, 0, 0, 0.3));\n",
              "      fill: #FFFFFF;\n",
              "    }\n",
              "  </style>\n",
              "\n",
              "      <script>\n",
              "        const buttonEl =\n",
              "          document.querySelector('#df-195b0468-0e55-40d0-9189-12b0ac3c0949 button.colab-df-convert');\n",
              "        buttonEl.style.display =\n",
              "          google.colab.kernel.accessAllowed ? 'block' : 'none';\n",
              "\n",
              "        async function convertToInteractive(key) {\n",
              "          const element = document.querySelector('#df-195b0468-0e55-40d0-9189-12b0ac3c0949');\n",
              "          const dataTable =\n",
              "            await google.colab.kernel.invokeFunction('convertToInteractive',\n",
              "                                                     [key], {});\n",
              "          if (!dataTable) return;\n",
              "\n",
              "          const docLinkHtml = 'Like what you see? Visit the ' +\n",
              "            '<a target=\"_blank\" href=https://colab.research.google.com/notebooks/data_table.ipynb>data table notebook</a>'\n",
              "            + ' to learn more about interactive tables.';\n",
              "          element.innerHTML = '';\n",
              "          dataTable['output_type'] = 'display_data';\n",
              "          await google.colab.output.renderOutput(dataTable, element);\n",
              "          const docLink = document.createElement('div');\n",
              "          docLink.innerHTML = docLinkHtml;\n",
              "          element.appendChild(docLink);\n",
              "        }\n",
              "      </script>\n",
              "    </div>\n",
              "  </div>\n"
            ]
          },
          "metadata": {},
          "execution_count": 90
        }
      ],
      "source": [
        "snils = input('Введите снилс в формате xxx-xxx-xxx xx или уникальный код: ')\n",
        "students_received[students_received['СНИЛС'] == snils]"
      ]
    },
    {
      "cell_type": "markdown",
      "metadata": {
        "id": "PfI9DQsrgaFK"
      },
      "source": [
        "Вычислим проходные баллы на специальности."
      ]
    },
    {
      "cell_type": "code",
      "execution_count": 158,
      "metadata": {
        "id": "oy3ebMTXcYEE"
      },
      "outputs": [],
      "source": [
        "passing_score = students_received[students_received['БВИ'] == False]\\\n",
        "                .groupby(['Специальность', 'Категория'], as_index=False)\\\n",
        "                .agg({'Балл': min}).sort_values(by='Категория')"
      ]
    },
    {
      "cell_type": "code",
      "source": [
        "passing_score.head(5)"
      ],
      "metadata": {
        "colab": {
          "base_uri": "https://localhost:8080/",
          "height": 206
        },
        "id": "mk6-SXXp0UFc",
        "outputId": "f9afe20c-aa76-4677-a6d3-6705b758972a"
      },
      "execution_count": 161,
      "outputs": [
        {
          "output_type": "execute_result",
          "data": {
            "text/plain": [
              "                                         Специальность             Категория  \\\n",
              "0         01.03.02 Прикладная математика и информатика  Имеющие особое право   \n",
              "154                                39.03.01 Социология  Имеющие особое право   \n",
              "151  38.05.01 Экономическая безопасность (Экономико...  Имеющие особое право   \n",
              "146     38.03.05 Бизнес-информатика (Бизнес-аналитика)  Имеющие особое право   \n",
              "143                                38.03.02 Менеджмент  Имеющие особое право   \n",
              "\n",
              "      Балл  \n",
              "0    168.0  \n",
              "154  180.0  \n",
              "151  188.0  \n",
              "146  183.0  \n",
              "143  214.0  "
            ],
            "text/html": [
              "\n",
              "\n",
              "  <div id=\"df-859e70a9-b440-47ac-b9c8-6422bc473563\">\n",
              "    <div class=\"colab-df-container\">\n",
              "      <div>\n",
              "<style scoped>\n",
              "    .dataframe tbody tr th:only-of-type {\n",
              "        vertical-align: middle;\n",
              "    }\n",
              "\n",
              "    .dataframe tbody tr th {\n",
              "        vertical-align: top;\n",
              "    }\n",
              "\n",
              "    .dataframe thead th {\n",
              "        text-align: right;\n",
              "    }\n",
              "</style>\n",
              "<table border=\"1\" class=\"dataframe\">\n",
              "  <thead>\n",
              "    <tr style=\"text-align: right;\">\n",
              "      <th></th>\n",
              "      <th>Специальность</th>\n",
              "      <th>Категория</th>\n",
              "      <th>Балл</th>\n",
              "    </tr>\n",
              "  </thead>\n",
              "  <tbody>\n",
              "    <tr>\n",
              "      <th>0</th>\n",
              "      <td>01.03.02 Прикладная математика и информатика</td>\n",
              "      <td>Имеющие особое право</td>\n",
              "      <td>168.0</td>\n",
              "    </tr>\n",
              "    <tr>\n",
              "      <th>154</th>\n",
              "      <td>39.03.01 Социология</td>\n",
              "      <td>Имеющие особое право</td>\n",
              "      <td>180.0</td>\n",
              "    </tr>\n",
              "    <tr>\n",
              "      <th>151</th>\n",
              "      <td>38.05.01 Экономическая безопасность (Экономико...</td>\n",
              "      <td>Имеющие особое право</td>\n",
              "      <td>188.0</td>\n",
              "    </tr>\n",
              "    <tr>\n",
              "      <th>146</th>\n",
              "      <td>38.03.05 Бизнес-информатика (Бизнес-аналитика)</td>\n",
              "      <td>Имеющие особое право</td>\n",
              "      <td>183.0</td>\n",
              "    </tr>\n",
              "    <tr>\n",
              "      <th>143</th>\n",
              "      <td>38.03.02 Менеджмент</td>\n",
              "      <td>Имеющие особое право</td>\n",
              "      <td>214.0</td>\n",
              "    </tr>\n",
              "  </tbody>\n",
              "</table>\n",
              "</div>\n",
              "      <button class=\"colab-df-convert\" onclick=\"convertToInteractive('df-859e70a9-b440-47ac-b9c8-6422bc473563')\"\n",
              "              title=\"Convert this dataframe to an interactive table.\"\n",
              "              style=\"display:none;\">\n",
              "\n",
              "  <svg xmlns=\"http://www.w3.org/2000/svg\" height=\"24px\"viewBox=\"0 0 24 24\"\n",
              "       width=\"24px\">\n",
              "    <path d=\"M0 0h24v24H0V0z\" fill=\"none\"/>\n",
              "    <path d=\"M18.56 5.44l.94 2.06.94-2.06 2.06-.94-2.06-.94-.94-2.06-.94 2.06-2.06.94zm-11 1L8.5 8.5l.94-2.06 2.06-.94-2.06-.94L8.5 2.5l-.94 2.06-2.06.94zm10 10l.94 2.06.94-2.06 2.06-.94-2.06-.94-.94-2.06-.94 2.06-2.06.94z\"/><path d=\"M17.41 7.96l-1.37-1.37c-.4-.4-.92-.59-1.43-.59-.52 0-1.04.2-1.43.59L10.3 9.45l-7.72 7.72c-.78.78-.78 2.05 0 2.83L4 21.41c.39.39.9.59 1.41.59.51 0 1.02-.2 1.41-.59l7.78-7.78 2.81-2.81c.8-.78.8-2.07 0-2.86zM5.41 20L4 18.59l7.72-7.72 1.47 1.35L5.41 20z\"/>\n",
              "  </svg>\n",
              "      </button>\n",
              "\n",
              "\n",
              "\n",
              "    <div id=\"df-ff238447-470f-4280-bb7e-2e618f5ef45f\">\n",
              "      <button class=\"colab-df-quickchart\" onclick=\"quickchart('df-ff238447-470f-4280-bb7e-2e618f5ef45f')\"\n",
              "              title=\"Suggest charts.\"\n",
              "              style=\"display:none;\">\n",
              "\n",
              "<svg xmlns=\"http://www.w3.org/2000/svg\" height=\"24px\"viewBox=\"0 0 24 24\"\n",
              "     width=\"24px\">\n",
              "    <g>\n",
              "        <path d=\"M19 3H5c-1.1 0-2 .9-2 2v14c0 1.1.9 2 2 2h14c1.1 0 2-.9 2-2V5c0-1.1-.9-2-2-2zM9 17H7v-7h2v7zm4 0h-2V7h2v10zm4 0h-2v-4h2v4z\"/>\n",
              "    </g>\n",
              "</svg>\n",
              "      </button>\n",
              "    </div>\n",
              "\n",
              "<style>\n",
              "  .colab-df-quickchart {\n",
              "    background-color: #E8F0FE;\n",
              "    border: none;\n",
              "    border-radius: 50%;\n",
              "    cursor: pointer;\n",
              "    display: none;\n",
              "    fill: #1967D2;\n",
              "    height: 32px;\n",
              "    padding: 0 0 0 0;\n",
              "    width: 32px;\n",
              "  }\n",
              "\n",
              "  .colab-df-quickchart:hover {\n",
              "    background-color: #E2EBFA;\n",
              "    box-shadow: 0px 1px 2px rgba(60, 64, 67, 0.3), 0px 1px 3px 1px rgba(60, 64, 67, 0.15);\n",
              "    fill: #174EA6;\n",
              "  }\n",
              "\n",
              "  [theme=dark] .colab-df-quickchart {\n",
              "    background-color: #3B4455;\n",
              "    fill: #D2E3FC;\n",
              "  }\n",
              "\n",
              "  [theme=dark] .colab-df-quickchart:hover {\n",
              "    background-color: #434B5C;\n",
              "    box-shadow: 0px 1px 3px 1px rgba(0, 0, 0, 0.15);\n",
              "    filter: drop-shadow(0px 1px 2px rgba(0, 0, 0, 0.3));\n",
              "    fill: #FFFFFF;\n",
              "  }\n",
              "</style>\n",
              "\n",
              "    <script>\n",
              "      async function quickchart(key) {\n",
              "        const containerElement = document.querySelector('#' + key);\n",
              "        const charts = await google.colab.kernel.invokeFunction(\n",
              "            'suggestCharts', [key], {});\n",
              "      }\n",
              "    </script>\n",
              "\n",
              "      <script>\n",
              "\n",
              "function displayQuickchartButton(domScope) {\n",
              "  let quickchartButtonEl =\n",
              "    domScope.querySelector('#df-ff238447-470f-4280-bb7e-2e618f5ef45f button.colab-df-quickchart');\n",
              "  quickchartButtonEl.style.display =\n",
              "    google.colab.kernel.accessAllowed ? 'block' : 'none';\n",
              "}\n",
              "\n",
              "        displayQuickchartButton(document);\n",
              "      </script>\n",
              "      <style>\n",
              "    .colab-df-container {\n",
              "      display:flex;\n",
              "      flex-wrap:wrap;\n",
              "      gap: 12px;\n",
              "    }\n",
              "\n",
              "    .colab-df-convert {\n",
              "      background-color: #E8F0FE;\n",
              "      border: none;\n",
              "      border-radius: 50%;\n",
              "      cursor: pointer;\n",
              "      display: none;\n",
              "      fill: #1967D2;\n",
              "      height: 32px;\n",
              "      padding: 0 0 0 0;\n",
              "      width: 32px;\n",
              "    }\n",
              "\n",
              "    .colab-df-convert:hover {\n",
              "      background-color: #E2EBFA;\n",
              "      box-shadow: 0px 1px 2px rgba(60, 64, 67, 0.3), 0px 1px 3px 1px rgba(60, 64, 67, 0.15);\n",
              "      fill: #174EA6;\n",
              "    }\n",
              "\n",
              "    [theme=dark] .colab-df-convert {\n",
              "      background-color: #3B4455;\n",
              "      fill: #D2E3FC;\n",
              "    }\n",
              "\n",
              "    [theme=dark] .colab-df-convert:hover {\n",
              "      background-color: #434B5C;\n",
              "      box-shadow: 0px 1px 3px 1px rgba(0, 0, 0, 0.15);\n",
              "      filter: drop-shadow(0px 1px 2px rgba(0, 0, 0, 0.3));\n",
              "      fill: #FFFFFF;\n",
              "    }\n",
              "  </style>\n",
              "\n",
              "      <script>\n",
              "        const buttonEl =\n",
              "          document.querySelector('#df-859e70a9-b440-47ac-b9c8-6422bc473563 button.colab-df-convert');\n",
              "        buttonEl.style.display =\n",
              "          google.colab.kernel.accessAllowed ? 'block' : 'none';\n",
              "\n",
              "        async function convertToInteractive(key) {\n",
              "          const element = document.querySelector('#df-859e70a9-b440-47ac-b9c8-6422bc473563');\n",
              "          const dataTable =\n",
              "            await google.colab.kernel.invokeFunction('convertToInteractive',\n",
              "                                                     [key], {});\n",
              "          if (!dataTable) return;\n",
              "\n",
              "          const docLinkHtml = 'Like what you see? Visit the ' +\n",
              "            '<a target=\"_blank\" href=https://colab.research.google.com/notebooks/data_table.ipynb>data table notebook</a>'\n",
              "            + ' to learn more about interactive tables.';\n",
              "          element.innerHTML = '';\n",
              "          dataTable['output_type'] = 'display_data';\n",
              "          await google.colab.output.renderOutput(dataTable, element);\n",
              "          const docLink = document.createElement('div');\n",
              "          docLink.innerHTML = docLinkHtml;\n",
              "          element.appendChild(docLink);\n",
              "        }\n",
              "      </script>\n",
              "    </div>\n",
              "  </div>\n"
            ]
          },
          "metadata": {},
          "execution_count": 161
        }
      ]
    },
    {
      "cell_type": "markdown",
      "metadata": {
        "id": "AGiv07Vc3aDO"
      },
      "source": [
        "#Сохранение данных"
      ]
    },
    {
      "cell_type": "markdown",
      "metadata": {
        "id": "rkPp0Nj_3nX5"
      },
      "source": [
        "Сохраняем собранные данные о всех абитуриентах в Excel таблицу."
      ]
    },
    {
      "cell_type": "code",
      "execution_count": 92,
      "metadata": {
        "id": "td7lXRBjquGv"
      },
      "outputs": [],
      "source": [
        "data_students.to_excel('students.xlsx')"
      ]
    },
    {
      "cell_type": "markdown",
      "metadata": {
        "id": "YBz3ZQzoyVXK"
      },
      "source": [
        "Сохраним данные о поступивших абитуриентах в Excel таблицу."
      ]
    },
    {
      "cell_type": "code",
      "source": [
        "writer = pd.ExcelWriter('passing_score_final.xlsx', engine='xlsxwriter')\n",
        "\n",
        "for category in passing_score['Категория'].unique():\n",
        "    passing_score[passing_score['Категория'] == category].to_excel(writer, sheet_name=category)\n",
        "\n",
        "writer.close()"
      ],
      "metadata": {
        "id": "SwTwhtSI1aHD"
      },
      "execution_count": 160,
      "outputs": []
    }
  ],
  "metadata": {
    "colab": {
      "provenance": [],
      "collapsed_sections": [
        "vTYipjPT2us9"
      ]
    },
    "kernelspec": {
      "display_name": "Python 3",
      "name": "python3"
    },
    "language_info": {
      "name": "python"
    }
  },
  "nbformat": 4,
  "nbformat_minor": 0
}