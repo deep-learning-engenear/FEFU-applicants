{
  "cells": [
    {
      "cell_type": "markdown",
      "metadata": {
        "id": "vTYipjPT2us9"
      },
      "source": [
        "#Импорт библиотек"
      ]
    },
    {
      "cell_type": "code",
      "execution_count": 1,
      "metadata": {
        "id": "9THBqcwPqnvh",
        "colab": {
          "base_uri": "https://localhost:8080/"
        },
        "outputId": "6b0f670b-c78d-4b3a-bc25-8adc226956aa"
      },
      "outputs": [
        {
          "output_type": "stream",
          "name": "stdout",
          "text": [
            "Collecting xlsxwriter\n",
            "  Downloading XlsxWriter-3.2.0-py3-none-any.whl (159 kB)\n",
            "\u001b[2K     \u001b[90m━━━━━━━━━━━━━━━━━━━━━━━━━━━━━━━━━━━━━━━━\u001b[0m \u001b[32m159.9/159.9 kB\u001b[0m \u001b[31m2.9 MB/s\u001b[0m eta \u001b[36m0:00:00\u001b[0m\n",
            "\u001b[?25hInstalling collected packages: xlsxwriter\n",
            "Successfully installed xlsxwriter-3.2.0\n"
          ]
        }
      ],
      "source": [
        "import requests\n",
        "import pandas as pd\n",
        "import numpy as np\n",
        "import copy\n",
        "\n",
        "!pip install xlsxwriter\n",
        "import xlsxwriter"
      ]
    },
    {
      "cell_type": "markdown",
      "metadata": {
        "id": "-0-aekCQ20f3"
      },
      "source": [
        "#Сбор данных"
      ]
    },
    {
      "cell_type": "markdown",
      "metadata": {
        "id": "I1oyFQ2ke7Vf"
      },
      "source": [
        "Напишем функцию для получения списка специальностей c источником финансирования - finance 'Бюджет'."
      ]
    },
    {
      "cell_type": "code",
      "execution_count": 2,
      "metadata": {
        "id": "lMvce8KlOZ9G"
      },
      "outputs": [],
      "source": [
        "def get_speciality(url):\n",
        "    user_agent = {'user-agent': 'Mozilla/5.0 (X11; Linux aarch64) AppleWebKit/537.36 (KHTML, like Gecko) Chrome/88.0.4324.188 Safari/537.36 CrKey/1.54.250320'}\n",
        "    data = {\n",
        "        'admissionCampaignType' : \"Прием на обучение на бакалавриат/специалитет\",\n",
        "        'financingSource' : 'Бюджет',\n",
        "        'studyForm' : \"Очная\"\n",
        "    }\n",
        "\n",
        "    raw = requests.post(url=url, headers = user_agent, params = data).json()\n",
        "    return raw['data']\n"
      ]
    },
    {
      "cell_type": "markdown",
      "metadata": {
        "id": "zWmnHCYoVkWA"
      },
      "source": [
        "Напишем функцию, которая будет собирать данные о поступающих на определенное направление - department."
      ]
    },
    {
      "cell_type": "code",
      "execution_count": 3,
      "metadata": {
        "id": "-YOh4LrbqmXu"
      },
      "outputs": [],
      "source": [
        "def get_data(url, department, orig):\n",
        "    # Словарь ключей для получения кол-во мест\n",
        "    place = {'Особая квота':            'SpecialQuotaCount',\n",
        "             'Основные места':          'BudgetQuotaCount',\n",
        "             'Отдельная квота':         'SeparateQuotaCount',\n",
        "             'Целевая квота':           'TargetQuotaCount',\n",
        "             'Полное возмещение затрат':'ExtraBudgetQuotaCount'}\n",
        "\n",
        "    user_agent = {'user-agent': 'Mozilla/5.0 (X11; Linux aarch64) AppleWebKit/537.36 (KHTML, like Gecko) Chrome/88.0.4324.188 Safari/537.36 CrKey/1.54.250320'}\n",
        "    data = {\n",
        "        'admissionCampaignType' : \"Прием на обучение на бакалавриат/специалитет\",\n",
        "        'financingSource' : \"Бюджет\",\n",
        "        'studyForm' : \"Очная\",\n",
        "        'trainingDirection' : department,\n",
        "        'sortDirection' : \"sum\",\n",
        "    }\n",
        "\n",
        "    raw = requests.post(url=url, headers = user_agent, params = data).json()\n",
        "\n",
        "    for student in raw.get(\"data\"):\n",
        "        if student['Code'] == '':\n",
        "            continue\n",
        "\n",
        "        if orig == 'Y' and student['AtestOrig'] == 'N':\n",
        "          continue\n",
        "\n",
        "        category = student['Category']\n",
        "\n",
        "        data_students['СНИЛС'].append(student['Code'])\n",
        "        data_students['Специальность'].append(department)\n",
        "        data_students['Приоритет'].append(int(student[\"SelectedPriority\"]))\n",
        "        data_students['БВИ'].append(student[\"NoExams\"] == 'Y')\n",
        "        data_students['Категория'].append(category)\n",
        "\n",
        "        try:\n",
        "            data_students['Балл'].append(int(student['SumScore']))\n",
        "        except:\n",
        "            data_students['Балл'].append(np.nan)\n",
        "\n",
        "        if category not in count_place:\n",
        "            count_place[category] = {}\n",
        "\n",
        "        if department not in count_place[category]:\n",
        "            count_place[category][department] = int(student[place[category]])\n"
      ]
    },
    {
      "cell_type": "code",
      "execution_count": 4,
      "metadata": {
        "colab": {
          "base_uri": "https://localhost:8080/"
        },
        "id": "AdzXBYdDqpfX",
        "outputId": "590e66e9-1d17-4dc0-f217-720845a42494"
      },
      "outputs": [
        {
          "name": "stdout",
          "output_type": "stream",
          "text": [
            "Выберите категорию аттестата: 'N' - не учитывая наличие оригинала, 'Y' - только оригинал документа: Y\n"
          ]
        }
      ],
      "source": [
        "# Словарь для хранения информации о кол-во мест\n",
        "count_place = {}\n",
        "# Будущий DataFrame для хранения информации об абитуриентах\n",
        "data_students = {'СНИЛС': [], 'Специальность': [], 'Балл': [], 'Приоритет': [], 'БВИ': [], 'Категория': []}\n",
        "\n",
        "orig = input(\"Выберите категорию аттестата: 'N' - не учитывая наличие оригинала, 'Y' - только оригинал документа: \").upper()\n",
        "assert orig in [\"N\", \"Y\"], \"Выбрана неверная категория.\""
      ]
    },
    {
      "cell_type": "code",
      "execution_count": 5,
      "metadata": {
        "id": "_pDR5XoIO7Ru"
      },
      "outputs": [],
      "source": [
        "url_speciality = \"https://www.dvfu.ru/bitrix/services/main/ajax.php?admissionCampaignType=%D0%9F%D1%80%D0%B8%D0%B5%D0%BC%20%D0%BD%D0%B0%20%D0%BE%D0%B1%D1%83%D1%87%D0%B5%D0%BD%D0%B8%D0%B5%20%D0%BD%D0%B0%20%D0%B1%D0%B0%D0%BA%D0%B0%D0%BB%D0%B0%D0%B2%D1%80%D0%B8%D0%B0%D1%82%2F%D1%81%D0%BF%D0%B5%D1%86%D0%B8%D0%B0%D0%BB%D0%B8%D1%82%D0%B5%D1%82&financingSource=%D0%91%D1%8E%D0%B4%D0%B6%D0%B5%D1%82&studyForm=%D0%9E%D1%87%D0%BD%D0%B0%D1%8F&mode=class&c=dvfu%3Aadmission.spd&action=getTrainingDirectionList\"\n",
        "fefu_speciality = get_speciality(url_speciality)"
      ]
    },
    {
      "cell_type": "markdown",
      "metadata": {
        "id": "EPsFtZZs3Pkm"
      },
      "source": [
        "Формирование pandasDataFrame по всем специальностям."
      ]
    },
    {
      "cell_type": "code",
      "execution_count": 6,
      "metadata": {
        "id": "hxqYUH9kqitH",
        "collapsed": true
      },
      "outputs": [],
      "source": [
        "url_data = \"https://www.dvfu.ru/bitrix/services/main/ajax.php?admissionCampaignType=%D0%9F%D1%80%D0%B8%D0%B5%D0%BC%20%D0%BD%D0%B0%20%D0%BE%D0%B1%D1%83%D1%87%D0%B5%D0%BD%D0%B8%D0%B5%20%D0%BD%D0%B0%20%D0%B1%D0%B0%D0%BA%D0%B0%D0%BB%D0%B0%D0%B2%D1%80%D0%B8%D0%B0%D1%82%2F%D1%81%D0%BF%D0%B5%D1%86%D0%B8%D0%B0%D0%BB%D0%B8%D1%82%D0%B5%D1%82&financingSource=%D0%91%D1%8E%D0%B4%D0%B6%D0%B5%D1%82&studyForm=%D0%9E%D1%87%D0%BD%D0%B0%D1%8F&trainingDirection=01.03.02%20%D0%9F%D1%80%D0%B8%D0%BA%D0%BB%D0%B0%D0%B4%D0%BD%D0%B0%D1%8F%20%D0%BC%D0%B0%D1%82%D0%B5%D0%BC%D0%B0%D1%82%D0%B8%D0%BA%D0%B0%20%D0%B8%20%D0%B8%D0%BD%D1%84%D0%BE%D1%80%D0%BC%D0%B0%D1%82%D0%B8%D0%BA%D0%B0&sortDirection=sum&enrolled=N&sendorig=N&topprior=N&mode=class&c=dvfu%3Aadmission.spd&action=getStudents\"\n",
        "\n",
        "for speciality in fefu_speciality:\n",
        "    try:\n",
        "        get_data(url_data, speciality, orig)\n",
        "    except:\n",
        "        continue"
      ]
    },
    {
      "cell_type": "code",
      "execution_count": 7,
      "metadata": {
        "id": "-wQPd0rW1Ddk",
        "colab": {
          "base_uri": "https://localhost:8080/"
        },
        "outputId": "a90df122-678b-4603-d301-be421bf108d7"
      },
      "outputs": [
        {
          "output_type": "execute_result",
          "data": {
            "text/plain": [
              "(3288, 6)"
            ]
          },
          "metadata": {},
          "execution_count": 7
        }
      ],
      "source": [
        "data_students = pd.DataFrame(data_students)\n",
        "data_students.shape"
      ]
    },
    {
      "cell_type": "markdown",
      "metadata": {
        "id": "WpYseWHaasPc"
      },
      "source": [
        "Удалим дубликаты."
      ]
    },
    {
      "cell_type": "code",
      "execution_count": 8,
      "metadata": {
        "colab": {
          "base_uri": "https://localhost:8080/"
        },
        "id": "9A6R50DIatl8",
        "outputId": "76cdf0ec-967a-49d1-ecc6-4ab9feef7e44"
      },
      "outputs": [
        {
          "output_type": "execute_result",
          "data": {
            "text/plain": [
              "(3286, 6)"
            ]
          },
          "metadata": {},
          "execution_count": 8
        }
      ],
      "source": [
        "data_students = data_students.drop_duplicates()\n",
        "data_students.shape"
      ]
    },
    {
      "cell_type": "markdown",
      "metadata": {
        "id": "GPB3NWVF8Rum"
      },
      "source": [
        "#Алгоритм"
      ]
    },
    {
      "cell_type": "markdown",
      "metadata": {
        "id": "Hj0y_RVLy6v_"
      },
      "source": [
        "Так как count_place - это словарь словарей, для того чтобы он не изменялся по ходу выполнения программы, сделаем глубокое копирование."
      ]
    },
    {
      "cell_type": "code",
      "execution_count": 9,
      "metadata": {
        "id": "JO44s-12RJwm"
      },
      "outputs": [],
      "source": [
        "copy_place = copy.deepcopy(count_place)\n",
        "df_students = data_students.copy()"
      ]
    },
    {
      "cell_type": "markdown",
      "metadata": {
        "id": "XZCmkYSl8kt_"
      },
      "source": [
        "Создадим пустой DataFrame, который будет хранить информацию о поступивших абитуриентах."
      ]
    },
    {
      "cell_type": "code",
      "execution_count": 10,
      "metadata": {
        "id": "ZSI6nKyp8Ynh"
      },
      "outputs": [],
      "source": [
        "students_received = pd.DataFrame({'СНИЛС': [], 'Специальность': [], 'Балл': [], 'Приоритет': [], 'БВИ': [], 'Категория': []})"
      ]
    },
    {
      "cell_type": "markdown",
      "metadata": {
        "id": "sgCQheoVOLtW"
      },
      "source": [
        "Напишем функцию, которая будет считать кол-во оставшихся мест на все специальности в определенной категории мест."
      ]
    },
    {
      "cell_type": "code",
      "execution_count": 11,
      "metadata": {
        "id": "AO4QpfeAMw9R"
      },
      "outputs": [],
      "source": [
        "def get_count_place(place, category):\n",
        "    return sum([place[category][i] for i in place[category]])"
      ]
    },
    {
      "cell_type": "markdown",
      "metadata": {
        "id": "jNQSDaPLRKng"
      },
      "source": [
        "Посмотрим на общее кол-во мест в категории: Основные места."
      ]
    },
    {
      "cell_type": "code",
      "execution_count": 12,
      "metadata": {
        "colab": {
          "base_uri": "https://localhost:8080/"
        },
        "id": "e_pqvGS-NRnS",
        "outputId": "abc365ac-d8d1-4b5e-badb-17b52e6009aa"
      },
      "outputs": [
        {
          "output_type": "execute_result",
          "data": {
            "text/plain": [
              "1891"
            ]
          },
          "metadata": {},
          "execution_count": 12
        }
      ],
      "source": [
        "get_count_place(copy_place, 'Основные места')"
      ]
    },
    {
      "cell_type": "markdown",
      "metadata": {
        "id": "INIKvP3_xcHk"
      },
      "source": [
        "Напишем функцию, которая будет формировать DataFrame с поступившими абитуриентами по определенной категории (category)."
      ]
    },
    {
      "cell_type": "code",
      "execution_count": 13,
      "metadata": {
        "id": "TmBeE6_U8Yk_"
      },
      "outputs": [],
      "source": [
        "def incoming_students(category):\n",
        "    global students_received, df_students\n",
        "\n",
        "    not_students = 0\n",
        "    while not_students != len(copy_place[category]): # Выполняем цикл до тех пор, пока в\n",
        "        not_students = 0                              # не останется абитуриентов на все специальности\n",
        "\n",
        "        for speciality in copy_place[category]:\n",
        "            # Проверим остались ли места на данную специальность\n",
        "            if copy_place[category][speciality] == 0:\n",
        "                not_students += 1\n",
        "                continue\n",
        "\n",
        "            # Формируем DataFrame по специальности и сортируем в порядке убывания\n",
        "            speciality_data = df_students[(df_students['Специальность'] == speciality) & (df_students['Категория'] == category)]\\\n",
        "                              .sort_values(by=['БВИ', 'Балл'], ascending=( False , False ))\n",
        "\n",
        "            # Делаем выборку из первых абитуриентов\n",
        "            speciality_data = speciality_data.iloc[:copy_place[category][speciality]]\n",
        "            # Проверяем не пустой ли speciality_data\n",
        "            if len(speciality_data) == 0:\n",
        "                not_students += 1\n",
        "                continue\n",
        "\n",
        "            # Перебираем проходящих на данную специальность абитуриентов\n",
        "            for i, student in speciality_data.iterrows():\n",
        "                # Проверяем есть ли уже абитуриент в DataFrame, поступивших абитуриентов\n",
        "                if student['СНИЛС'] in students_received['СНИЛС'].to_list():\n",
        "                    # Проверяем меньше ли новый приоритет\n",
        "                    if student['Приоритет'] < students_received[students_received['СНИЛС'] == student['СНИЛС']]['Приоритет'].values[0]:\n",
        "\n",
        "                        # Так как значение нового приоритета меньше, убираем абитуриента со старой специальности и добавляем в новую\n",
        "                        index = students_received[students_received['СНИЛС'] == student['СНИЛС']].index\n",
        "                        copy_place[students_received.loc[index, 'Категория'].values[0]][students_received.loc[index, 'Специальность'].values[0]] += 1\n",
        "\n",
        "                        # Удаление информацию об абитуриенте\n",
        "                        students_received.drop(labels=[index[0]], inplace=True)\n",
        "\n",
        "                    # Если значение исходного приоритета меньше нового, пропускаем абитуриента\n",
        "                    else:\n",
        "                      df_students.drop(labels=[i], inplace=True)\n",
        "                      continue\n",
        "\n",
        "                # Добаляем информацию о новом, поступившем абитуриенте\n",
        "                item = pd.DataFrame([student])\n",
        "                item[\"БВИ\"] = item[\"БВИ\"].astype(\"boolean\")\n",
        "                students_received = pd.concat([students_received, item])\n",
        "\n",
        "                # Обновляем кол-во мест\n",
        "                copy_place[student['Категория']][student['Специальность']] -= 1\n",
        "\n",
        "                # Удаляем из общих данных уже поступивших абитуриентов\n",
        "                df_students.drop(labels=[i], inplace=True)\n"
      ]
    },
    {
      "cell_type": "markdown",
      "metadata": {
        "id": "zyZtXrpRqS8h"
      },
      "source": [
        "Для бюджетной основы сначала определяем поступивших абитуриентов на общих основаниях, затем на квотные места,\n",
        "   оставшиеся места переходят в места 'Основные места', дополняем списки 'Основные места'."
      ]
    },
    {
      "cell_type": "code",
      "execution_count": 14,
      "metadata": {
        "id": "pbA5h4dQKER7"
      },
      "outputs": [],
      "source": [
        "def get_students_received():\n",
        "\n",
        "    # Определяем поступивших абитуриентов на общих основаниях\n",
        "    incoming_students('Основные места')\n",
        "    kvota = ['Особая квота', 'Отдельная квота', 'Целевая квота']\n",
        "\n",
        "    for category in kvota:\n",
        "        incoming_students(category)\n",
        "\n",
        "    # Добавляем оставшиеся места в общие основания\n",
        "    for category in kvota:\n",
        "      for speciality in copy_place[category]:\n",
        "          copy_place['Основные места'][speciality] += copy_place[category][speciality]\n",
        "          copy_place[category][speciality] = 0\n",
        "\n",
        "    # Дополняем поступивших абитуриентов на общих основаниях\n",
        "    incoming_students('Основные места')\n"
      ]
    },
    {
      "cell_type": "code",
      "execution_count": 15,
      "metadata": {
        "id": "1zZC2uyF8-oo"
      },
      "outputs": [],
      "source": [
        "get_students_received()"
      ]
    },
    {
      "cell_type": "markdown",
      "metadata": {
        "id": "JW9TBjwtxuEU"
      },
      "source": [
        "Проверим размерности данных и кол-во уникальных СНИЛСов (для того чтобы убедится, что один абитуриент не попал в наш DataFrame несколько раз).\n"
      ]
    },
    {
      "cell_type": "code",
      "execution_count": 16,
      "metadata": {
        "colab": {
          "base_uri": "https://localhost:8080/"
        },
        "id": "zIsihSlf8Yis",
        "outputId": "f9370f66-5d01-4b29-903f-c957ca6d9757"
      },
      "outputs": [
        {
          "output_type": "execute_result",
          "data": {
            "text/plain": [
              "((18, 6), (883, 6))"
            ]
          },
          "metadata": {},
          "execution_count": 16
        }
      ],
      "source": [
        "df_students.shape, students_received.shape"
      ]
    },
    {
      "cell_type": "code",
      "execution_count": 17,
      "metadata": {
        "colab": {
          "base_uri": "https://localhost:8080/"
        },
        "id": "aLIQflrONbFr",
        "outputId": "d29c1661-215f-4806-c464-a65a786ffa2d"
      },
      "outputs": [
        {
          "output_type": "execute_result",
          "data": {
            "text/plain": [
              "883"
            ]
          },
          "metadata": {},
          "execution_count": 17
        }
      ],
      "source": [
        "students_received['СНИЛС'].nunique()"
      ]
    },
    {
      "cell_type": "markdown",
      "metadata": {
        "id": "2-9ra2RngTwh"
      },
      "source": [
        "Тут можно проверить на какую специальность проходит абитуриент."
      ]
    },
    {
      "cell_type": "code",
      "execution_count": 18,
      "metadata": {
        "colab": {
          "base_uri": "https://localhost:8080/",
          "height": 99
        },
        "id": "ZVkpOjpUdW8L",
        "outputId": "5528eda4-21c2-472a-9ebf-660dcf34abed"
      },
      "outputs": [
        {
          "name": "stdout",
          "output_type": "stream",
          "text": [
            "Введите снилс в формате xxx-xxx-xxx xx или уникальный код: 198-688-591 77\n"
          ]
        },
        {
          "output_type": "execute_result",
          "data": {
            "text/plain": [
              "              СНИЛС   Специальность   Балл  Приоритет    БВИ      Категория\n",
              "233  198-688-591 77  04.03.01 Химия  235.0        1.0  False  Целевая квота"
            ],
            "text/html": [
              "\n",
              "  <div id=\"df-f5cea398-b41c-44cc-8d91-6db38c8c9754\" class=\"colab-df-container\">\n",
              "    <div>\n",
              "<style scoped>\n",
              "    .dataframe tbody tr th:only-of-type {\n",
              "        vertical-align: middle;\n",
              "    }\n",
              "\n",
              "    .dataframe tbody tr th {\n",
              "        vertical-align: top;\n",
              "    }\n",
              "\n",
              "    .dataframe thead th {\n",
              "        text-align: right;\n",
              "    }\n",
              "</style>\n",
              "<table border=\"1\" class=\"dataframe\">\n",
              "  <thead>\n",
              "    <tr style=\"text-align: right;\">\n",
              "      <th></th>\n",
              "      <th>СНИЛС</th>\n",
              "      <th>Специальность</th>\n",
              "      <th>Балл</th>\n",
              "      <th>Приоритет</th>\n",
              "      <th>БВИ</th>\n",
              "      <th>Категория</th>\n",
              "    </tr>\n",
              "  </thead>\n",
              "  <tbody>\n",
              "    <tr>\n",
              "      <th>233</th>\n",
              "      <td>198-688-591 77</td>\n",
              "      <td>04.03.01 Химия</td>\n",
              "      <td>235.0</td>\n",
              "      <td>1.0</td>\n",
              "      <td>False</td>\n",
              "      <td>Целевая квота</td>\n",
              "    </tr>\n",
              "  </tbody>\n",
              "</table>\n",
              "</div>\n",
              "    <div class=\"colab-df-buttons\">\n",
              "\n",
              "  <div class=\"colab-df-container\">\n",
              "    <button class=\"colab-df-convert\" onclick=\"convertToInteractive('df-f5cea398-b41c-44cc-8d91-6db38c8c9754')\"\n",
              "            title=\"Convert this dataframe to an interactive table.\"\n",
              "            style=\"display:none;\">\n",
              "\n",
              "  <svg xmlns=\"http://www.w3.org/2000/svg\" height=\"24px\" viewBox=\"0 -960 960 960\">\n",
              "    <path d=\"M120-120v-720h720v720H120Zm60-500h600v-160H180v160Zm220 220h160v-160H400v160Zm0 220h160v-160H400v160ZM180-400h160v-160H180v160Zm440 0h160v-160H620v160ZM180-180h160v-160H180v160Zm440 0h160v-160H620v160Z\"/>\n",
              "  </svg>\n",
              "    </button>\n",
              "\n",
              "  <style>\n",
              "    .colab-df-container {\n",
              "      display:flex;\n",
              "      gap: 12px;\n",
              "    }\n",
              "\n",
              "    .colab-df-convert {\n",
              "      background-color: #E8F0FE;\n",
              "      border: none;\n",
              "      border-radius: 50%;\n",
              "      cursor: pointer;\n",
              "      display: none;\n",
              "      fill: #1967D2;\n",
              "      height: 32px;\n",
              "      padding: 0 0 0 0;\n",
              "      width: 32px;\n",
              "    }\n",
              "\n",
              "    .colab-df-convert:hover {\n",
              "      background-color: #E2EBFA;\n",
              "      box-shadow: 0px 1px 2px rgba(60, 64, 67, 0.3), 0px 1px 3px 1px rgba(60, 64, 67, 0.15);\n",
              "      fill: #174EA6;\n",
              "    }\n",
              "\n",
              "    .colab-df-buttons div {\n",
              "      margin-bottom: 4px;\n",
              "    }\n",
              "\n",
              "    [theme=dark] .colab-df-convert {\n",
              "      background-color: #3B4455;\n",
              "      fill: #D2E3FC;\n",
              "    }\n",
              "\n",
              "    [theme=dark] .colab-df-convert:hover {\n",
              "      background-color: #434B5C;\n",
              "      box-shadow: 0px 1px 3px 1px rgba(0, 0, 0, 0.15);\n",
              "      filter: drop-shadow(0px 1px 2px rgba(0, 0, 0, 0.3));\n",
              "      fill: #FFFFFF;\n",
              "    }\n",
              "  </style>\n",
              "\n",
              "    <script>\n",
              "      const buttonEl =\n",
              "        document.querySelector('#df-f5cea398-b41c-44cc-8d91-6db38c8c9754 button.colab-df-convert');\n",
              "      buttonEl.style.display =\n",
              "        google.colab.kernel.accessAllowed ? 'block' : 'none';\n",
              "\n",
              "      async function convertToInteractive(key) {\n",
              "        const element = document.querySelector('#df-f5cea398-b41c-44cc-8d91-6db38c8c9754');\n",
              "        const dataTable =\n",
              "          await google.colab.kernel.invokeFunction('convertToInteractive',\n",
              "                                                    [key], {});\n",
              "        if (!dataTable) return;\n",
              "\n",
              "        const docLinkHtml = 'Like what you see? Visit the ' +\n",
              "          '<a target=\"_blank\" href=https://colab.research.google.com/notebooks/data_table.ipynb>data table notebook</a>'\n",
              "          + ' to learn more about interactive tables.';\n",
              "        element.innerHTML = '';\n",
              "        dataTable['output_type'] = 'display_data';\n",
              "        await google.colab.output.renderOutput(dataTable, element);\n",
              "        const docLink = document.createElement('div');\n",
              "        docLink.innerHTML = docLinkHtml;\n",
              "        element.appendChild(docLink);\n",
              "      }\n",
              "    </script>\n",
              "  </div>\n",
              "\n",
              "    </div>\n",
              "  </div>\n"
            ],
            "application/vnd.google.colaboratory.intrinsic+json": {
              "type": "dataframe",
              "summary": "{\n  \"name\": \"students_received[students_received['\\u0421\\u041d\\u0418\\u041b\\u0421'] == snils]\",\n  \"rows\": 1,\n  \"fields\": [\n    {\n      \"column\": \"\\u0421\\u041d\\u0418\\u041b\\u0421\",\n      \"properties\": {\n        \"dtype\": \"string\",\n        \"num_unique_values\": 1,\n        \"samples\": [\n          \"198-688-591 77\"\n        ],\n        \"semantic_type\": \"\",\n        \"description\": \"\"\n      }\n    },\n    {\n      \"column\": \"\\u0421\\u043f\\u0435\\u0446\\u0438\\u0430\\u043b\\u044c\\u043d\\u043e\\u0441\\u0442\\u044c\",\n      \"properties\": {\n        \"dtype\": \"string\",\n        \"num_unique_values\": 1,\n        \"samples\": [\n          \"04.03.01 \\u0425\\u0438\\u043c\\u0438\\u044f\"\n        ],\n        \"semantic_type\": \"\",\n        \"description\": \"\"\n      }\n    },\n    {\n      \"column\": \"\\u0411\\u0430\\u043b\\u043b\",\n      \"properties\": {\n        \"dtype\": \"number\",\n        \"std\": null,\n        \"min\": 235.0,\n        \"max\": 235.0,\n        \"num_unique_values\": 1,\n        \"samples\": [\n          235.0\n        ],\n        \"semantic_type\": \"\",\n        \"description\": \"\"\n      }\n    },\n    {\n      \"column\": \"\\u041f\\u0440\\u0438\\u043e\\u0440\\u0438\\u0442\\u0435\\u0442\",\n      \"properties\": {\n        \"dtype\": \"number\",\n        \"std\": null,\n        \"min\": 1.0,\n        \"max\": 1.0,\n        \"num_unique_values\": 1,\n        \"samples\": [\n          1.0\n        ],\n        \"semantic_type\": \"\",\n        \"description\": \"\"\n      }\n    },\n    {\n      \"column\": \"\\u0411\\u0412\\u0418\",\n      \"properties\": {\n        \"dtype\": \"boolean\",\n        \"num_unique_values\": 1,\n        \"samples\": [\n          false\n        ],\n        \"semantic_type\": \"\",\n        \"description\": \"\"\n      }\n    },\n    {\n      \"column\": \"\\u041a\\u0430\\u0442\\u0435\\u0433\\u043e\\u0440\\u0438\\u044f\",\n      \"properties\": {\n        \"dtype\": \"string\",\n        \"num_unique_values\": 1,\n        \"samples\": [\n          \"\\u0426\\u0435\\u043b\\u0435\\u0432\\u0430\\u044f \\u043a\\u0432\\u043e\\u0442\\u0430\"\n        ],\n        \"semantic_type\": \"\",\n        \"description\": \"\"\n      }\n    }\n  ]\n}"
            }
          },
          "metadata": {},
          "execution_count": 18
        }
      ],
      "source": [
        "snils = input('Введите снилс в формате xxx-xxx-xxx xx или уникальный код: ')\n",
        "students_received[students_received['СНИЛС'] == snils]"
      ]
    },
    {
      "cell_type": "markdown",
      "metadata": {
        "id": "PfI9DQsrgaFK"
      },
      "source": [
        "Вычислим проходные баллы на специальности."
      ]
    },
    {
      "cell_type": "code",
      "execution_count": 19,
      "metadata": {
        "id": "oy3ebMTXcYEE"
      },
      "outputs": [],
      "source": [
        "passing_score = students_received[students_received['БВИ'] == False]\\\n",
        "                .groupby(['Специальность', 'Категория'], as_index=False)\\\n",
        "                .agg({'Балл': min}).sort_values(by='Категория')"
      ]
    },
    {
      "cell_type": "code",
      "execution_count": 20,
      "metadata": {
        "colab": {
          "base_uri": "https://localhost:8080/",
          "height": 206
        },
        "id": "mk6-SXXp0UFc",
        "outputId": "91b91794-c2ce-4411-b062-bbce20583f8e"
      },
      "outputs": [
        {
          "output_type": "execute_result",
          "data": {
            "text/plain": [
              "                                         Специальность       Категория   Балл\n",
              "0         01.03.02 Прикладная математика и информатика  Основные места    0.0\n",
              "105                                    43.03.01 Сервис  Основные места  196.0\n",
              "62   26.03.02 Кораблестроение, океанотехника и сист...  Основные места  162.0\n",
              "106                                    43.03.02 Туризм  Основные места  194.0\n",
              "60   24.05.05 Интегрированные системы летательных а...  Основные места  151.0"
            ],
            "text/html": [
              "\n",
              "  <div id=\"df-6f4bd617-4500-4649-9fbf-58fd3e297e0c\" class=\"colab-df-container\">\n",
              "    <div>\n",
              "<style scoped>\n",
              "    .dataframe tbody tr th:only-of-type {\n",
              "        vertical-align: middle;\n",
              "    }\n",
              "\n",
              "    .dataframe tbody tr th {\n",
              "        vertical-align: top;\n",
              "    }\n",
              "\n",
              "    .dataframe thead th {\n",
              "        text-align: right;\n",
              "    }\n",
              "</style>\n",
              "<table border=\"1\" class=\"dataframe\">\n",
              "  <thead>\n",
              "    <tr style=\"text-align: right;\">\n",
              "      <th></th>\n",
              "      <th>Специальность</th>\n",
              "      <th>Категория</th>\n",
              "      <th>Балл</th>\n",
              "    </tr>\n",
              "  </thead>\n",
              "  <tbody>\n",
              "    <tr>\n",
              "      <th>0</th>\n",
              "      <td>01.03.02 Прикладная математика и информатика</td>\n",
              "      <td>Основные места</td>\n",
              "      <td>0.0</td>\n",
              "    </tr>\n",
              "    <tr>\n",
              "      <th>105</th>\n",
              "      <td>43.03.01 Сервис</td>\n",
              "      <td>Основные места</td>\n",
              "      <td>196.0</td>\n",
              "    </tr>\n",
              "    <tr>\n",
              "      <th>62</th>\n",
              "      <td>26.03.02 Кораблестроение, океанотехника и сист...</td>\n",
              "      <td>Основные места</td>\n",
              "      <td>162.0</td>\n",
              "    </tr>\n",
              "    <tr>\n",
              "      <th>106</th>\n",
              "      <td>43.03.02 Туризм</td>\n",
              "      <td>Основные места</td>\n",
              "      <td>194.0</td>\n",
              "    </tr>\n",
              "    <tr>\n",
              "      <th>60</th>\n",
              "      <td>24.05.05 Интегрированные системы летательных а...</td>\n",
              "      <td>Основные места</td>\n",
              "      <td>151.0</td>\n",
              "    </tr>\n",
              "  </tbody>\n",
              "</table>\n",
              "</div>\n",
              "    <div class=\"colab-df-buttons\">\n",
              "\n",
              "  <div class=\"colab-df-container\">\n",
              "    <button class=\"colab-df-convert\" onclick=\"convertToInteractive('df-6f4bd617-4500-4649-9fbf-58fd3e297e0c')\"\n",
              "            title=\"Convert this dataframe to an interactive table.\"\n",
              "            style=\"display:none;\">\n",
              "\n",
              "  <svg xmlns=\"http://www.w3.org/2000/svg\" height=\"24px\" viewBox=\"0 -960 960 960\">\n",
              "    <path d=\"M120-120v-720h720v720H120Zm60-500h600v-160H180v160Zm220 220h160v-160H400v160Zm0 220h160v-160H400v160ZM180-400h160v-160H180v160Zm440 0h160v-160H620v160ZM180-180h160v-160H180v160Zm440 0h160v-160H620v160Z\"/>\n",
              "  </svg>\n",
              "    </button>\n",
              "\n",
              "  <style>\n",
              "    .colab-df-container {\n",
              "      display:flex;\n",
              "      gap: 12px;\n",
              "    }\n",
              "\n",
              "    .colab-df-convert {\n",
              "      background-color: #E8F0FE;\n",
              "      border: none;\n",
              "      border-radius: 50%;\n",
              "      cursor: pointer;\n",
              "      display: none;\n",
              "      fill: #1967D2;\n",
              "      height: 32px;\n",
              "      padding: 0 0 0 0;\n",
              "      width: 32px;\n",
              "    }\n",
              "\n",
              "    .colab-df-convert:hover {\n",
              "      background-color: #E2EBFA;\n",
              "      box-shadow: 0px 1px 2px rgba(60, 64, 67, 0.3), 0px 1px 3px 1px rgba(60, 64, 67, 0.15);\n",
              "      fill: #174EA6;\n",
              "    }\n",
              "\n",
              "    .colab-df-buttons div {\n",
              "      margin-bottom: 4px;\n",
              "    }\n",
              "\n",
              "    [theme=dark] .colab-df-convert {\n",
              "      background-color: #3B4455;\n",
              "      fill: #D2E3FC;\n",
              "    }\n",
              "\n",
              "    [theme=dark] .colab-df-convert:hover {\n",
              "      background-color: #434B5C;\n",
              "      box-shadow: 0px 1px 3px 1px rgba(0, 0, 0, 0.15);\n",
              "      filter: drop-shadow(0px 1px 2px rgba(0, 0, 0, 0.3));\n",
              "      fill: #FFFFFF;\n",
              "    }\n",
              "  </style>\n",
              "\n",
              "    <script>\n",
              "      const buttonEl =\n",
              "        document.querySelector('#df-6f4bd617-4500-4649-9fbf-58fd3e297e0c button.colab-df-convert');\n",
              "      buttonEl.style.display =\n",
              "        google.colab.kernel.accessAllowed ? 'block' : 'none';\n",
              "\n",
              "      async function convertToInteractive(key) {\n",
              "        const element = document.querySelector('#df-6f4bd617-4500-4649-9fbf-58fd3e297e0c');\n",
              "        const dataTable =\n",
              "          await google.colab.kernel.invokeFunction('convertToInteractive',\n",
              "                                                    [key], {});\n",
              "        if (!dataTable) return;\n",
              "\n",
              "        const docLinkHtml = 'Like what you see? Visit the ' +\n",
              "          '<a target=\"_blank\" href=https://colab.research.google.com/notebooks/data_table.ipynb>data table notebook</a>'\n",
              "          + ' to learn more about interactive tables.';\n",
              "        element.innerHTML = '';\n",
              "        dataTable['output_type'] = 'display_data';\n",
              "        await google.colab.output.renderOutput(dataTable, element);\n",
              "        const docLink = document.createElement('div');\n",
              "        docLink.innerHTML = docLinkHtml;\n",
              "        element.appendChild(docLink);\n",
              "      }\n",
              "    </script>\n",
              "  </div>\n",
              "\n",
              "\n",
              "<div id=\"df-9a502523-e2b6-410e-87b8-59d5cc41c3c4\">\n",
              "  <button class=\"colab-df-quickchart\" onclick=\"quickchart('df-9a502523-e2b6-410e-87b8-59d5cc41c3c4')\"\n",
              "            title=\"Suggest charts\"\n",
              "            style=\"display:none;\">\n",
              "\n",
              "<svg xmlns=\"http://www.w3.org/2000/svg\" height=\"24px\"viewBox=\"0 0 24 24\"\n",
              "     width=\"24px\">\n",
              "    <g>\n",
              "        <path d=\"M19 3H5c-1.1 0-2 .9-2 2v14c0 1.1.9 2 2 2h14c1.1 0 2-.9 2-2V5c0-1.1-.9-2-2-2zM9 17H7v-7h2v7zm4 0h-2V7h2v10zm4 0h-2v-4h2v4z\"/>\n",
              "    </g>\n",
              "</svg>\n",
              "  </button>\n",
              "\n",
              "<style>\n",
              "  .colab-df-quickchart {\n",
              "      --bg-color: #E8F0FE;\n",
              "      --fill-color: #1967D2;\n",
              "      --hover-bg-color: #E2EBFA;\n",
              "      --hover-fill-color: #174EA6;\n",
              "      --disabled-fill-color: #AAA;\n",
              "      --disabled-bg-color: #DDD;\n",
              "  }\n",
              "\n",
              "  [theme=dark] .colab-df-quickchart {\n",
              "      --bg-color: #3B4455;\n",
              "      --fill-color: #D2E3FC;\n",
              "      --hover-bg-color: #434B5C;\n",
              "      --hover-fill-color: #FFFFFF;\n",
              "      --disabled-bg-color: #3B4455;\n",
              "      --disabled-fill-color: #666;\n",
              "  }\n",
              "\n",
              "  .colab-df-quickchart {\n",
              "    background-color: var(--bg-color);\n",
              "    border: none;\n",
              "    border-radius: 50%;\n",
              "    cursor: pointer;\n",
              "    display: none;\n",
              "    fill: var(--fill-color);\n",
              "    height: 32px;\n",
              "    padding: 0;\n",
              "    width: 32px;\n",
              "  }\n",
              "\n",
              "  .colab-df-quickchart:hover {\n",
              "    background-color: var(--hover-bg-color);\n",
              "    box-shadow: 0 1px 2px rgba(60, 64, 67, 0.3), 0 1px 3px 1px rgba(60, 64, 67, 0.15);\n",
              "    fill: var(--button-hover-fill-color);\n",
              "  }\n",
              "\n",
              "  .colab-df-quickchart-complete:disabled,\n",
              "  .colab-df-quickchart-complete:disabled:hover {\n",
              "    background-color: var(--disabled-bg-color);\n",
              "    fill: var(--disabled-fill-color);\n",
              "    box-shadow: none;\n",
              "  }\n",
              "\n",
              "  .colab-df-spinner {\n",
              "    border: 2px solid var(--fill-color);\n",
              "    border-color: transparent;\n",
              "    border-bottom-color: var(--fill-color);\n",
              "    animation:\n",
              "      spin 1s steps(1) infinite;\n",
              "  }\n",
              "\n",
              "  @keyframes spin {\n",
              "    0% {\n",
              "      border-color: transparent;\n",
              "      border-bottom-color: var(--fill-color);\n",
              "      border-left-color: var(--fill-color);\n",
              "    }\n",
              "    20% {\n",
              "      border-color: transparent;\n",
              "      border-left-color: var(--fill-color);\n",
              "      border-top-color: var(--fill-color);\n",
              "    }\n",
              "    30% {\n",
              "      border-color: transparent;\n",
              "      border-left-color: var(--fill-color);\n",
              "      border-top-color: var(--fill-color);\n",
              "      border-right-color: var(--fill-color);\n",
              "    }\n",
              "    40% {\n",
              "      border-color: transparent;\n",
              "      border-right-color: var(--fill-color);\n",
              "      border-top-color: var(--fill-color);\n",
              "    }\n",
              "    60% {\n",
              "      border-color: transparent;\n",
              "      border-right-color: var(--fill-color);\n",
              "    }\n",
              "    80% {\n",
              "      border-color: transparent;\n",
              "      border-right-color: var(--fill-color);\n",
              "      border-bottom-color: var(--fill-color);\n",
              "    }\n",
              "    90% {\n",
              "      border-color: transparent;\n",
              "      border-bottom-color: var(--fill-color);\n",
              "    }\n",
              "  }\n",
              "</style>\n",
              "\n",
              "  <script>\n",
              "    async function quickchart(key) {\n",
              "      const quickchartButtonEl =\n",
              "        document.querySelector('#' + key + ' button');\n",
              "      quickchartButtonEl.disabled = true;  // To prevent multiple clicks.\n",
              "      quickchartButtonEl.classList.add('colab-df-spinner');\n",
              "      try {\n",
              "        const charts = await google.colab.kernel.invokeFunction(\n",
              "            'suggestCharts', [key], {});\n",
              "      } catch (error) {\n",
              "        console.error('Error during call to suggestCharts:', error);\n",
              "      }\n",
              "      quickchartButtonEl.classList.remove('colab-df-spinner');\n",
              "      quickchartButtonEl.classList.add('colab-df-quickchart-complete');\n",
              "    }\n",
              "    (() => {\n",
              "      let quickchartButtonEl =\n",
              "        document.querySelector('#df-9a502523-e2b6-410e-87b8-59d5cc41c3c4 button');\n",
              "      quickchartButtonEl.style.display =\n",
              "        google.colab.kernel.accessAllowed ? 'block' : 'none';\n",
              "    })();\n",
              "  </script>\n",
              "</div>\n",
              "    </div>\n",
              "  </div>\n"
            ],
            "application/vnd.google.colaboratory.intrinsic+json": {
              "type": "dataframe",
              "variable_name": "passing_score",
              "summary": "{\n  \"name\": \"passing_score\",\n  \"rows\": 150,\n  \"fields\": [\n    {\n      \"column\": \"\\u0421\\u043f\\u0435\\u0446\\u0438\\u0430\\u043b\\u044c\\u043d\\u043e\\u0441\\u0442\\u044c\",\n      \"properties\": {\n        \"dtype\": \"string\",\n        \"num_unique_values\": 88,\n        \"samples\": [\n          \"09.03.01 \\u0418\\u043d\\u0444\\u043e\\u0440\\u043c\\u0430\\u0442\\u0438\\u043a\\u0430 \\u0438 \\u0432\\u044b\\u0447\\u0438\\u0441\\u043b\\u0438\\u0442\\u0435\\u043b\\u044c\\u043d\\u0430\\u044f \\u0442\\u0435\\u0445\\u043d\\u0438\\u043a\\u0430\",\n          \"01.03.02 \\u041f\\u0440\\u0438\\u043a\\u043b\\u0430\\u0434\\u043d\\u0430\\u044f \\u043c\\u0430\\u0442\\u0435\\u043c\\u0430\\u0442\\u0438\\u043a\\u0430 \\u0438 \\u0438\\u043d\\u0444\\u043e\\u0440\\u043c\\u0430\\u0442\\u0438\\u043a\\u0430\",\n          \"38.03.02 \\u041c\\u0435\\u043d\\u0435\\u0434\\u0436\\u043c\\u0435\\u043d\\u0442\"\n        ],\n        \"semantic_type\": \"\",\n        \"description\": \"\"\n      }\n    },\n    {\n      \"column\": \"\\u041a\\u0430\\u0442\\u0435\\u0433\\u043e\\u0440\\u0438\\u044f\",\n      \"properties\": {\n        \"dtype\": \"category\",\n        \"num_unique_values\": 4,\n        \"samples\": [\n          \"\\u041e\\u0441\\u043e\\u0431\\u0430\\u044f \\u043a\\u0432\\u043e\\u0442\\u0430\",\n          \"\\u0426\\u0435\\u043b\\u0435\\u0432\\u0430\\u044f \\u043a\\u0432\\u043e\\u0442\\u0430\",\n          \"\\u041e\\u0441\\u043d\\u043e\\u0432\\u043d\\u044b\\u0435 \\u043c\\u0435\\u0441\\u0442\\u0430\"\n        ],\n        \"semantic_type\": \"\",\n        \"description\": \"\"\n      }\n    },\n    {\n      \"column\": \"\\u0411\\u0430\\u043b\\u043b\",\n      \"properties\": {\n        \"dtype\": \"number\",\n        \"std\": 76.93153468560713,\n        \"min\": 0.0,\n        \"max\": 273.0,\n        \"num_unique_values\": 76,\n        \"samples\": [\n          151.0,\n          200.0,\n          153.0\n        ],\n        \"semantic_type\": \"\",\n        \"description\": \"\"\n      }\n    }\n  ]\n}"
            }
          },
          "metadata": {},
          "execution_count": 20
        }
      ],
      "source": [
        "passing_score.head(5)\n"
      ]
    },
    {
      "cell_type": "markdown",
      "metadata": {
        "id": "AGiv07Vc3aDO"
      },
      "source": [
        "#Сохранение данных"
      ]
    },
    {
      "cell_type": "markdown",
      "metadata": {
        "id": "rkPp0Nj_3nX5"
      },
      "source": [
        "Сохраняем собранные данные о всех поступивших абитуриентах в Excel таблицу."
      ]
    },
    {
      "cell_type": "code",
      "execution_count": 21,
      "metadata": {
        "id": "td7lXRBjquGv"
      },
      "outputs": [],
      "source": [
        "students_received.to_excel('students.xlsx')"
      ]
    },
    {
      "cell_type": "markdown",
      "metadata": {
        "id": "YBz3ZQzoyVXK"
      },
      "source": [
        "Сохраним данные о поступивших абитуриентах в Excel таблицу."
      ]
    },
    {
      "cell_type": "code",
      "execution_count": 22,
      "metadata": {
        "id": "SwTwhtSI1aHD"
      },
      "outputs": [],
      "source": [
        "writer = pd.ExcelWriter('passing_score_final.xlsx', engine='xlsxwriter')\n",
        "\n",
        "for category in passing_score['Категория'].unique():\n",
        "    passing_score[passing_score['Категория'] == category].to_excel(writer, sheet_name=category)\n",
        "\n",
        "writer.close()"
      ]
    }
  ],
  "metadata": {
    "colab": {
      "collapsed_sections": [
        "vTYipjPT2us9"
      ],
      "provenance": []
    },
    "kernelspec": {
      "display_name": "Python 3",
      "name": "python3"
    },
    "language_info": {
      "name": "python"
    }
  },
  "nbformat": 4,
  "nbformat_minor": 0
}